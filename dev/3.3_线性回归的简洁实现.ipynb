{
 "cells": [
  {
   "cell_type": "code",
   "execution_count": 1,
   "metadata": {
    "id": "1Z1KIC3m6Slc"
   },
   "outputs": [],
   "source": [
    "import numpy as np\n",
    "import torch\n",
    "from torch.utils import data\n",
    "from d2l import torch as d2l"
   ]
  },
  {
   "cell_type": "code",
   "execution_count": 2,
   "metadata": {
    "id": "UdXKkr1a6lp5"
   },
   "outputs": [],
   "source": [
    "true_w = torch.tensor([2, -3.4])\n",
    "true_b = 4.2\n",
    "features, labels = d2l.synthetic_data(true_w, true_b, 1000)"
   ]
  },
  {
   "cell_type": "code",
   "execution_count": 3,
   "metadata": {
    "id": "Qhs1rEUO66_S"
   },
   "outputs": [],
   "source": [
    "batch_size = 10\n",
    "data_iter = d2l.load_array((features, labels), batch_size)"
   ]
  },
  {
   "cell_type": "code",
   "execution_count": 4,
   "metadata": {
    "colab": {
     "base_uri": "https://localhost:8080/"
    },
    "executionInfo": {
     "elapsed": 32,
     "status": "ok",
     "timestamp": 1756826988453,
     "user": {
      "displayName": "xun zhu",
      "userId": "10805151323215125307"
     },
     "user_tz": -480
    },
    "id": "whvykpOj80qk",
    "outputId": "d00cf165-a0e2-49e2-fa83-60816cf8fc46"
   },
   "outputs": [
    {
     "data": {
      "text/plain": [
       "[tensor([[ 0.4937, -0.3232],\n",
       "         [-0.2889,  1.3658],\n",
       "         [-0.8844, -0.6261],\n",
       "         [ 0.5489,  0.5875],\n",
       "         [ 0.7929, -0.3901],\n",
       "         [-2.6096,  0.6206],\n",
       "         [-0.0626,  0.2885],\n",
       "         [-0.4200,  0.4516],\n",
       "         [-0.4300, -0.3877],\n",
       "         [-0.0859,  0.2096]]),\n",
       " tensor([[ 6.2814],\n",
       "         [-1.0332],\n",
       "         [ 4.5664],\n",
       "         [ 3.2972],\n",
       "         [ 7.1202],\n",
       "         [-3.1159],\n",
       "         [ 3.1028],\n",
       "         [ 1.8151],\n",
       "         [ 4.6601],\n",
       "         [ 3.3171]])]"
      ]
     },
     "execution_count": 4,
     "metadata": {},
     "output_type": "execute_result"
    }
   ],
   "source": [
    "next(iter(data_iter))"
   ]
  },
  {
   "cell_type": "code",
   "execution_count": 5,
   "metadata": {
    "id": "bS7qkcvR9GW0"
   },
   "outputs": [],
   "source": [
    "#对于标准深度学习模型，我们可以使用框架的预定义好的层。\n",
    "#这使我们只需关注使用哪些层来构造模型，而不必关注层的实现细节。\n",
    "#我们首先定义一个模型变量net，它是一个Sequential类的实例。\n",
    "#Sequential类将多个层串联在一起。 当给定输入数据时，\n",
    "#Sequential实例将数据传入到第一层， 然后将第一层的输出作为第二层的输入，以此类推。 在下面的例子中，我们的模型只包含一个层，因此实际上不需要Sequential。\n",
    "#但是由于以后几乎所有的模型都是多层的，在这里使用Sequential会让你熟悉“标准的流水线”。\n",
    "\n",
    "# nn是神经网络的缩写\n",
    "from torch import nn\n",
    "\n",
    "net = nn.Sequential(nn.Linear(2, 1))"
   ]
  },
  {
   "cell_type": "code",
   "execution_count": 6,
   "metadata": {
    "colab": {
     "base_uri": "https://localhost:8080/"
    },
    "executionInfo": {
     "elapsed": 7,
     "status": "ok",
     "timestamp": 1756826988548,
     "user": {
      "displayName": "xun zhu",
      "userId": "10805151323215125307"
     },
     "user_tz": -480
    },
    "id": "UfAnpcU0-YPw",
    "outputId": "4f4327f1-1bb1-4ef2-bd30-16d6c42fcc98"
   },
   "outputs": [
    {
     "data": {
      "text/plain": [
       "tensor([0.])"
      ]
     },
     "execution_count": 6,
     "metadata": {},
     "output_type": "execute_result"
    }
   ],
   "source": [
    "#在使用net之前，我们需要初始化模型参数。 如在线性回归模型中的权重和偏置。 深度学习框架通常有预定义的方法来初始化参数。\n",
    "#在这里，我们指定每个权重参数应该从均值为0、标准差为0.01的正态分布中随机采样， 偏置参数将初始化为零。\n",
    "net[0].weight.data.normal_(0, 0.01)\n",
    "net[0].bias.data.fill_(0)"
   ]
  },
  {
   "cell_type": "code",
   "execution_count": 7,
   "metadata": {
    "id": "ys0aNaXKBkBq"
   },
   "outputs": [],
   "source": [
    "# 定义损失函数\n",
    "loss = nn.MSELoss()"
   ]
  },
  {
   "cell_type": "code",
   "execution_count": 8,
   "metadata": {
    "id": "L6PH1A8kBvAR"
   },
   "outputs": [],
   "source": [
    "# 定义优化算法\n",
    "trainer = torch.optim.SGD(net.parameters(), lr=0.03)"
   ]
  },
  {
   "cell_type": "code",
   "execution_count": 9,
   "metadata": {
    "colab": {
     "base_uri": "https://localhost:8080/"
    },
    "executionInfo": {
     "elapsed": 375,
     "status": "ok",
     "timestamp": 1756826994543,
     "user": {
      "displayName": "xun zhu",
      "userId": "10805151323215125307"
     },
     "user_tz": -480
    },
    "id": "ZPla9qcnB5T5",
    "outputId": "e34b0779-e628-45ac-f54e-d14c05ffe94b"
   },
   "outputs": [
    {
     "name": "stdout",
     "output_type": "stream",
     "text": [
      "epoch 1, loss 0.000236\n",
      "epoch 2, loss 0.000103\n",
      "epoch 3, loss 0.000103\n"
     ]
    }
   ],
   "source": [
    "#训练\n",
    "num_epochs = 3\n",
    "for epoch in range(num_epochs):\n",
    "    for X, y in data_iter:\n",
    "        l = loss(net(X) ,y)\n",
    "        trainer.zero_grad()\n",
    "        l.backward()\n",
    "        trainer.step()\n",
    "    l = loss(net(features), labels)\n",
    "    print(f'epoch {epoch + 1}, loss {l:f}')"
   ]
  },
  {
   "cell_type": "code",
   "execution_count": null,
   "metadata": {
    "colab": {
     "base_uri": "https://localhost:8080/"
    },
    "executionInfo": {
     "elapsed": 10,
     "status": "ok",
     "timestamp": 1756826994556,
     "user": {
      "displayName": "xun zhu",
      "userId": "10805151323215125307"
     },
     "user_tz": -480
    },
    "id": "4P3FTKYOCEBE",
    "outputId": "7b631335-a0dd-4b04-de26-5235ce82ca5f"
   },
   "outputs": [
    {
     "name": "stdout",
     "output_type": "stream",
     "text": [
      "w的估计误差： tensor([-0.0011,  0.0003])\n",
      "b的估计误差： tensor([0.0007])\n"
     ]
    }
   ],
   "source": [
    "w = net[0].weight.data\n",
    "print('w的估计误差：', true_w - w.reshape(true_w.shape))\n",
    "b = net[0].bias.data\n",
    "print('b的估计误差：', true_b - b)"
   ]
  }
 ],
 "metadata": {
  "colab": {
   "authorship_tag": "ABX9TyP0DbmUJrZiyZazJCYQaa8W",
   "mount_file_id": "1LmPGtaNEo52ULbhGA2RiHU9N_34D3i9Z",
   "provenance": []
  },
  "kernelspec": {
   "display_name": "Python 3 (ipykernel)",
   "language": "python",
   "name": "python3"
  },
  "language_info": {
   "codemirror_mode": {
    "name": "ipython",
    "version": 3
   },
   "file_extension": ".py",
   "mimetype": "text/x-python",
   "name": "python",
   "nbconvert_exporter": "python",
   "pygments_lexer": "ipython3",
   "version": "3.10.4"
  }
 },
 "nbformat": 4,
 "nbformat_minor": 4
}
